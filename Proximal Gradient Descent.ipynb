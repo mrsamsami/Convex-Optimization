{
 "cells": [
  {
   "cell_type": "markdown",
   "metadata": {
    "colab_type": "text",
    "id": "a_kT8ijD88LD"
   },
   "source": [
    "# Ridge Classification With Proximal Gradient Descent\n"
   ]
  },
  {
   "cell_type": "code",
   "execution_count": 0,
   "metadata": {
    "colab": {},
    "colab_type": "code",
    "id": "AUdvKNzD9Lek"
   },
   "outputs": [],
   "source": [
    "%matplotlib inline \n",
    "import numpy as np\n",
    "import cvxpy as cp\n",
    "from matplotlib import pyplot as plt"
   ]
  },
  {
   "cell_type": "markdown",
   "metadata": {
    "colab_type": "text",
    "id": "Qj3-0dzkOQhu"
   },
   "source": [
    "## Writing the objective function\n",
    "We decompose the **objective function $f(w)$** as the sum of **log-likelihood of the data $g(x)$**, plus a **regularization term $ h(x) = \\|w\\|_{2, c}$**.\n"
   ]
  },
  {
   "cell_type": "code",
   "execution_count": 0,
   "metadata": {
    "colab": {},
    "colab_type": "code",
    "id": "ccLTWpZC9dLI"
   },
   "outputs": [],
   "source": [
    "def logf(x):\n",
    "    return np.log(1 + np.exp(x.astype(np.float128)))\n",
    "\n",
    "def g(X, y, w):\n",
    "    return np.sum(logf(np.dot(X, w)) - y*np.dot(X, w))\n",
    "\n",
    "def h(w, d):\n",
    "    return np.sqrt(np.sum(d*w*w))\n",
    "\n",
    "def f(X, y, w, d, lambd):\n",
    "    return g(X, y, w) + lambd * h(w, d)"
   ]
  },
  {
   "cell_type": "markdown",
   "metadata": {
    "colab_type": "text",
    "id": "NKrDJaFGdOgp"
   },
   "source": [
    "## Defining Proximal Operator and the Gradient of $g(x)$\n"
   ]
  },
  {
   "cell_type": "code",
   "execution_count": 0,
   "metadata": {
    "colab": {},
    "colab_type": "code",
    "id": "Xh-bDAiNSLbh"
   },
   "outputs": [],
   "source": [
    "def g_grad(X, y, w):\n",
    "    return np.dot(1 - 1 / np.exp(np.dot(X, w).astype(np.float128)), X) - np.dot(y, X)\n",
    "\n",
    "def prox(w, d, t, lambd):\n",
    "    return w - t*lambd / h(w, d) * (d * w)"
   ]
  },
  {
   "cell_type": "markdown",
   "metadata": {
    "colab_type": "text",
    "id": "7UkQFtW4rLWo"
   },
   "source": [
    "## Preparing Data"
   ]
  },
  {
   "cell_type": "code",
   "execution_count": 0,
   "metadata": {
    "colab": {},
    "colab_type": "code",
    "id": "xlz8uaYnrRU7"
   },
   "outputs": [],
   "source": [
    "with open('data/X.txt', 'r') as file:\n",
    "    X = np.array([[int(num) for num in line.split(',')] for line in file])\n",
    "\n",
    "with open('data/Y.txt', 'r') as file:\n",
    "    y = np.squeeze(np.array([[int(num) for num in line.split(',')] for line in file]))\n",
    "\n",
    "with open('data/C.txt', 'r') as file:\n",
    "    c = np.array([int(line.split(' ')[-1]) for line in file])"
   ]
  },
  {
   "cell_type": "markdown",
   "metadata": {
    "colab_type": "text",
    "id": "ypmkmoX4hs7g"
   },
   "source": [
    "## Proximal Gradient Descent with Constant Step Size\n"
   ]
  },
  {
   "cell_type": "code",
   "execution_count": 0,
   "metadata": {
    "colab": {},
    "colab_type": "code",
    "id": "bOizZa9Rt7gp"
   },
   "outputs": [],
   "source": [
    "d = (1 / np.sqrt(np.repeat(c, c))).astype(np.float128)\n",
    "lambd = 5\n",
    "t = 1e-4\n",
    "max_iter = 1000\n",
    "n, m = 628, 833\n",
    "w = np.random.rand(m).astype(np.float128)"
   ]
  },
  {
   "cell_type": "code",
   "execution_count": 0,
   "metadata": {
    "colab": {},
    "colab_type": "code",
    "id": "9dG2L0pSdjGa"
   },
   "outputs": [],
   "source": [
    "obj = []\n",
    "for i in range(max_iter):\n",
    "    obj.append(f(X, y, w, d, lambd))\n",
    "    gradient = g_grad(X, y, w)\n",
    "    G = (w - prox(w - t*gradient, d, t, lambd)) / t\n",
    "    w = w - t*G\n",
    "obj -= obj[-1]"
   ]
  },
  {
   "cell_type": "code",
   "execution_count": 8,
   "metadata": {
    "colab": {
     "base_uri": "https://localhost:8080/",
     "height": 389
    },
    "colab_type": "code",
    "id": "vz5TlRRZgaTJ",
    "outputId": "1fa1c794-825b-4495-f189-e59acf9fb4d1"
   },
   "outputs": [
    {
     "data": {
      "text/plain": [
       "[<matplotlib.lines.Line2D at 0x7f28d9bcf748>]"
      ]
     },
     "execution_count": 8,
     "metadata": {
      "tags": []
     },
     "output_type": "execute_result"
    },
    {
     "data": {
      "image/png": "[encoded data removed]",
      "text/plain": [
       "<Figure size 648x432 with 1 Axes>"
      ]
     },
     "metadata": {
      "tags": []
     },
     "output_type": "display_data"
    }
   ],
   "source": [
    "plt.style.use('seaborn-whitegrid')\n",
    "plt.figure(figsize=(9, 6))\n",
    "plt.yscale('log')\n",
    "plt.plot(obj)"
   ]
  }
 ],
 "metadata": {
  "colab": {
   "collapsed_sections": [],
   "name": "CVXHW2P6.ipynb",
   "provenance": [],
   "toc_visible": true
  },
  "kernelspec": {
   "display_name": "Python 3",
   "language": "python",
   "name": "python3"
  },
  "language_info": {
   "codemirror_mode": {
    "name": "ipython",
    "version": 3
   },
   "file_extension": ".py",
   "mimetype": "text/x-python",
   "name": "python",
   "nbconvert_exporter": "python",
   "pygments_lexer": "ipython3",
   "version": "3.6.5"
  }
 },
 "nbformat": 4,
 "nbformat_minor": 1
}
